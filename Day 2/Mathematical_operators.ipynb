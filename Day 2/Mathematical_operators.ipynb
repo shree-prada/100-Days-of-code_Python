{
 "cells": [
  {
   "cell_type": "code",
   "execution_count": 1,
   "metadata": {},
   "outputs": [
    {
     "name": "stdout",
     "output_type": "stream",
     "text": [
      "4\n"
     ]
    }
   ],
   "source": [
    "3 + 5\n",
    "7 - 4\n",
    "3 * 2\n",
    "6 / 3 #Float\n",
    "print(2 ** 2) #expotential\n"
   ]
  },
  {
   "cell_type": "code",
   "execution_count": 2,
   "metadata": {},
   "outputs": [
    {
     "name": "stdout",
     "output_type": "stream",
     "text": [
      "7.0\n"
     ]
    }
   ],
   "source": [
    "#order\n",
    "\n",
    "'''\n",
    "PEMDAS\n",
    "\n",
    "Parentheses ()\n",
    "Exponents **\n",
    "Multiplication *\n",
    "Division /\n",
    "Addition +\n",
    "Subtraction -\n",
    "'''\n",
    "\n",
    "print(3 * 3 + 3 / 3 -3)"
   ]
  },
  {
   "cell_type": "code",
   "execution_count": null,
   "metadata": {},
   "outputs": [],
   "source": []
  }
 ],
 "metadata": {
  "kernelspec": {
   "display_name": "Python 3",
   "language": "python",
   "name": "python3"
  },
  "language_info": {
   "codemirror_mode": {
    "name": "ipython",
    "version": 3
   },
   "file_extension": ".py",
   "mimetype": "text/x-python",
   "name": "python",
   "nbconvert_exporter": "python",
   "pygments_lexer": "ipython3",
   "version": "3.12.2"
  }
 },
 "nbformat": 4,
 "nbformat_minor": 2
}
