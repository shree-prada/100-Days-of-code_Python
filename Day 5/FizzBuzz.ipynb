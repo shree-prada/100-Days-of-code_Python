{
 "cells": [
  {
   "cell_type": "code",
   "execution_count": null,
   "metadata": {},
   "outputs": [],
   "source": [
    "\n",
    "'''\n",
    "You are going to write a program that automatically prints the solution to the FizzBuzz game. These are the rules of the FizzBuzz game:\n",
    "\n",
    "Your program should print each number from 1 to 100 in turn and include number 100.\n",
    "\n",
    "When the number is divisible by 3 then instead of printing the number it should print \"Fizz\".\n",
    "\n",
    "When the number is divisible by 5, then instead of printing the number it should print \"Buzz\".`\n",
    "\n",
    "And if the number is divisible by both 3 and 5 e.g. 15 then instead of the number it should print \"FizzBuzz\"\n",
    "\n",
    "'''"
   ]
  },
  {
   "cell_type": "code",
   "execution_count": null,
   "metadata": {},
   "outputs": [],
   "source": [
    "# Write your code here 👇\n",
    "for number in range(1,101):\n",
    "  if number%3==0 and number%5==0:\n",
    "   print(\"FizzBuzz\")\n",
    "  elif number%5==0:\n",
    "   print(\"Buzz\")\n",
    "  elif number%3==0:\n",
    "   print(\"Fizz\")\n",
    "  else:\n",
    "   print(number)"
   ]
  }
 ],
 "metadata": {
  "language_info": {
   "name": "python"
  }
 },
 "nbformat": 4,
 "nbformat_minor": 2
}
