{
 "cells": [
  {
   "cell_type": "code",
   "execution_count": null,
   "metadata": {},
   "outputs": [],
   "source": [
    "target = int(input()) # Enter a number between 0 and 1000\n",
    "\n",
    "total = 0\n",
    "for number in range(2, target+1, 2):\n",
    "  total+=number\n",
    "print(total)"
   ]
  }
 ],
 "metadata": {
  "language_info": {
   "name": "python"
  }
 },
 "nbformat": 4,
 "nbformat_minor": 2
}
