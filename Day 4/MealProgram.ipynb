{
 "cells": [
  {
   "cell_type": "code",
   "execution_count": null,
   "metadata": {},
   "outputs": [],
   "source": [
    "names_string = [\"Angela\", \"Ben\", \"Jenny\", \"Michael\", \"Chloe\"]"
   ]
  },
  {
   "cell_type": "code",
   "execution_count": null,
   "metadata": {},
   "outputs": [],
   "source": [
    "names = names_string.split(\", \")\n",
    "\n",
    "import random\n",
    "\n",
    "# Get the total number of items in list.\n",
    "num_items = len(names)\n",
    "# Generate random numbers between 0 and the last index. \n",
    "random_choice = random.randint(0, num_items - 1)\n",
    "# Choose and print a random name.\n",
    "\n",
    "print(f\"{ names[random_choice]} is going to buy the meal today!\")"
   ]
  }
 ],
 "metadata": {
  "language_info": {
   "name": "python"
  }
 },
 "nbformat": 4,
 "nbformat_minor": 2
}
