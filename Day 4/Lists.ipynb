{
 "cells": [
  {
   "cell_type": "code",
   "execution_count": 1,
   "metadata": {},
   "outputs": [
    {
     "name": "stdout",
     "output_type": "stream",
     "text": [
      "Toronto\n"
     ]
    }
   ],
   "source": [
    "states_of_Canada =[\"Toronto\", \"Mississauga\", \"Waterloo\"]\n",
    "\n",
    "print(states_of_Canada[0])"
   ]
  },
  {
   "cell_type": "code",
   "execution_count": 2,
   "metadata": {},
   "outputs": [
    {
     "name": "stdout",
     "output_type": "stream",
     "text": [
      "Waterloo\n"
     ]
    }
   ],
   "source": [
    "print(states_of_Canada[-1])"
   ]
  },
  {
   "cell_type": "code",
   "execution_count": 3,
   "metadata": {},
   "outputs": [
    {
     "name": "stdout",
     "output_type": "stream",
     "text": [
      "['Toronto', 'Mississauga', 'Waterloo', 'Ottawa']\n"
     ]
    }
   ],
   "source": [
    "#to add one item\n",
    "states_of_Canada.append(\"Ottawa\")\n",
    "print(states_of_Canada)"
   ]
  },
  {
   "cell_type": "code",
   "execution_count": null,
   "metadata": {},
   "outputs": [],
   "source": [
    "https://docs.python.org/3/tutorial/datastructures.html\n"
   ]
  },
  {
   "cell_type": "code",
   "execution_count": 5,
   "metadata": {},
   "outputs": [
    {
     "name": "stdout",
     "output_type": "stream",
     "text": [
      "['Toronto', 'Mississauga', 'Waterloo', 'Ottawa', 'Vacnouver0', 'Banff', 'Vacnouver', 'Banff']\n"
     ]
    }
   ],
   "source": [
    "#to add multiple items\n",
    "states_of_Canada.extend([\"Vacnouver\",\"Banff\"])\n",
    "print(states_of_Canada)"
   ]
  }
 ],
 "metadata": {
  "kernelspec": {
   "display_name": "Python 3",
   "language": "python",
   "name": "python3"
  },
  "language_info": {
   "codemirror_mode": {
    "name": "ipython",
    "version": 3
   },
   "file_extension": ".py",
   "mimetype": "text/x-python",
   "name": "python",
   "nbconvert_exporter": "python",
   "pygments_lexer": "ipython3",
   "version": "3.12.2"
  }
 },
 "nbformat": 4,
 "nbformat_minor": 2
}
